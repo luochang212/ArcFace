{
 "cells": [
  {
   "cell_type": "markdown",
   "id": "66b30f4e-b2ae-4f11-8983-24906b1b6585",
   "metadata": {},
   "source": [
    "# ArcFace"
   ]
  },
  {
   "cell_type": "code",
   "execution_count": null,
   "id": "f3feb494-6453-44a5-93e4-076194a17b94",
   "metadata": {},
   "outputs": [],
   "source": []
  },
  {
   "cell_type": "code",
   "execution_count": null,
   "id": "3be617b6-9c22-4c12-98a0-e75adcf2883a",
   "metadata": {},
   "outputs": [],
   "source": []
  },
  {
   "cell_type": "code",
   "execution_count": null,
   "id": "96447922-29fd-4878-b872-046795d769eb",
   "metadata": {},
   "outputs": [],
   "source": []
  },
  {
   "cell_type": "code",
   "execution_count": null,
   "id": "f4c7f2b5-882f-406e-b769-872bcceb73cc",
   "metadata": {},
   "outputs": [],
   "source": []
  },
  {
   "cell_type": "markdown",
   "id": "8f1cb010-38a4-42a1-9e69-1d37fa83a611",
   "metadata": {},
   "source": [
    "参考：\n",
    "\n",
    "- GitHub: [deepinsight/insightface](https://github.com/deepinsight/insightface)"
   ]
  },
  {
   "cell_type": "code",
   "execution_count": null,
   "id": "4199a7c8-925c-4cea-8880-c84aed5c84b7",
   "metadata": {},
   "outputs": [],
   "source": []
  }
 ],
 "metadata": {
  "kernelspec": {
   "display_name": "Python 3 (ipykernel)",
   "language": "python",
   "name": "python3"
  },
  "language_info": {
   "codemirror_mode": {
    "name": "ipython",
    "version": 3
   },
   "file_extension": ".py",
   "mimetype": "text/x-python",
   "name": "python",
   "nbconvert_exporter": "python",
   "pygments_lexer": "ipython3",
   "version": "3.12.4"
  }
 },
 "nbformat": 4,
 "nbformat_minor": 5
}
